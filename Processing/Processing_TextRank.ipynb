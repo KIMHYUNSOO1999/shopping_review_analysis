{
  "cells": [
    {
      "cell_type": "markdown",
      "metadata": {
        "id": "q7gvdpYFIUoS"
      },
      "source": [
        "TextRank 를 이용한 키워드 추출과 핵심 문장 추출\n",
        "\n",
        "라이브러리 출처 : https://github.com/lovit/textrank/"
      ]
    },
    {
      "cell_type": "code",
      "execution_count": 1,
      "metadata": {
        "colab": {
          "base_uri": "https://localhost:8080/"
        },
        "id": "sk8VesJd6xc-",
        "outputId": "ee235f60-b53f-4d22-af79-357509f019e8"
      },
      "outputs": [
        {
          "name": "stdout",
          "output_type": "stream",
          "text": [
            "Mounted at /content/drive/\n"
          ]
        }
      ],
      "source": [
        "import os \n",
        "\n",
        "from google.colab import drive\n",
        "drive.mount('/content/drive/')"
      ]
    },
    {
      "cell_type": "code",
      "execution_count": null,
      "metadata": {
        "id": "68NQMzha871f"
      },
      "outputs": [],
      "source": [
        "!git clone https://github.com/SOMJANG/Mecab-ko-for-Google-Colab.git"
      ]
    },
    {
      "cell_type": "code",
      "execution_count": null,
      "metadata": {
        "id": "TCp-Kyk187t5"
      },
      "outputs": [],
      "source": [
        "cd Mecab-ko-for-Google-Colab/"
      ]
    },
    {
      "cell_type": "code",
      "execution_count": null,
      "metadata": {
        "id": "Hql_u9P_87lx"
      },
      "outputs": [],
      "source": [
        "!bash ./install_mecab-ko_on_colab190912.sh"
      ]
    },
    {
      "cell_type": "code",
      "execution_count": null,
      "metadata": {
        "id": "UX7hNE-TDMJb"
      },
      "outputs": [],
      "source": [
        "!pip install git+https://github.com/lovit/textrank.git"
      ]
    },
    {
      "cell_type": "code",
      "execution_count": 124,
      "metadata": {
        "id": "ujcqWqfQDMBk"
      },
      "outputs": [],
      "source": [
        "from konlpy.tag import Komoran,Okt,Mecab\n",
        "\n",
        "komoran = Komoran()\n",
        "def komoran_tokenizer(sent):\n",
        "    words = komoran.pos(sent, join=True)\n",
        "    words = [w for w in words if ('/NN' in w or '/XR' in w or '/VA' in w or '/VV' in w)]\n",
        "    return words\n",
        "\n",
        "okt = Okt()\n",
        "def OKT_tokenizer(sent):\n",
        "    words = okt.pos(sent, join=True)\n",
        "    words = [w for w in words if ('Noun' in w  or 'Adjective' in w)]\n",
        "    return words\n",
        "\n",
        "mecab = Mecab()\n",
        "def Mecab_tokenizer(sent):\n",
        "    words = mecab.pos(sent, join=True)\n",
        "    words = [w for w in words if ('NNP' in w  or 'NNG' in w,'NA' in w  or 'VA' in w,'NNB' in w  or 'MM' in w,'IC' in w  or 'MA' in w,'VCN' in w)]\n",
        "    return words"
      ]
    },
    {
      "cell_type": "code",
      "execution_count": 154,
      "metadata": {
        "id": "h-uS5oXZ9Obi"
      },
      "outputs": [],
      "source": [
        "import pandas as pd \n",
        "\n",
        "df2=pd.read_csv('/content/drive/MyDrive/halla/danawa2_label.csv',encoding='CP949')\n",
        "df2=df2.dropna(axis=0)\n",
        "\n",
        "good_text=[]\n",
        "bad_text=[]\n",
        "\n",
        "df2.reset_index(inplace=True)\n",
        "for i in range(len(df2)):\n",
        "    if df2.loc[i,'label']==1:\n",
        "        good_text.append(df2.loc[i,'text'])\n",
        "    else:\n",
        "        bad_text.append(df2.loc[i,'text'])\n",
        "\n",
        "for i in good_text:\n",
        "\n",
        "    i=i.strip()\n",
        "\n",
        "    if ('https:'in str(i)) or (str(i).rstrip()==''):\n",
        "        good_text.remove(i)\n",
        "    elif '\\r\\n\\r\\n' in i:\n",
        "        good_text[good_text.index(i)]=i.replace('\\r\\n\\r\\n','')\n",
        "\n",
        "for i in bad_text:\n",
        "\n",
        "    i=i.strip()\n",
        "\n",
        "    if ('https:' in str(i)) or (str(i).rstrip()==''):\n",
        "        bad_text.remove(i)\n",
        "    elif '\\r\\n\\r\\n' in i:\n",
        "        bad_text[bad_text.index(i)]=i.replace('\\r\\n\\r\\n','')"
      ]
    },
    {
      "cell_type": "code",
      "execution_count": 156,
      "metadata": {
        "colab": {
          "base_uri": "https://localhost:8080/"
        },
        "id": "iOQdgRWJEQ4f",
        "outputId": "d39e4262-d95d-4af3-c6fe-b9e0987f7191"
      },
      "outputs": [
        {
          "name": "stdout",
          "output_type": "stream",
          "text": [
            "1.4102389812469482\n"
          ]
        }
      ],
      "source": [
        "from textrank import KeysentenceSummarizer\n",
        "import time\n",
        "start_time=time.time()\n",
        "\n",
        "summarizer = KeysentenceSummarizer(tokenize = komoran_tokenizer, min_sim = 0.6)\n",
        "keysents_good = summarizer.summarize(good_text, topk=3)\n",
        "keysents_bad= summarizer.summarize(bad_text, topk=3)\n",
        "\n",
        "end_time=time.time()\n",
        "\n",
        "print(end_time-start_time)"
      ]
    },
    {
      "cell_type": "code",
      "execution_count": 157,
      "metadata": {
        "colab": {
          "base_uri": "https://localhost:8080/"
        },
        "id": "wJn-C5CA751U",
        "outputId": "fedef543-672b-4230-a6b3-d541c1bdf020"
      },
      "outputs": [
        {
          "data": {
            "text/plain": [
              "[(22,\n",
              "  2.9455985205855795,\n",
              "  '로지텍 마우스는 3번째씁니다. 고장 날때까지 썼는데.. 5년이상은 쓴거같은데... 하여간 믿고씁니다. 반응좋고 클릭 감도 좋아요. 만족합니다. 배송도 빨랐어요.'),\n",
              " (12,\n",
              "  2.837273128351592,\n",
              "  '로지텍 제품 마우스를 많이 사용해봐서.. 초등학생인 아이가 무난하게 쓸 수 있는걸로 찾아서 샀습니다.가격도 적당하고 그립감도 좋다고 하네요.고장없이 오래 썼음 좋겠네요. 어찌나 험하게 쓰는지... ㅡㅡㅋ'),\n",
              " (494, 2.786921064812699, '배송 겁나 빠르고 사용감 너무 좋습니다')]"
            ]
          },
          "execution_count": 157,
          "metadata": {},
          "output_type": "execute_result"
        }
      ],
      "source": [
        "keysents_good"
      ]
    },
    {
      "cell_type": "code",
      "execution_count": 158,
      "metadata": {
        "colab": {
          "base_uri": "https://localhost:8080/"
        },
        "id": "WnL5XNNP7Lw1",
        "outputId": "36ad3941-e0db-44ca-b0e1-3a80cb29e1ce"
      },
      "outputs": [
        {
          "data": {
            "text/plain": [
              "[(1,\n",
              "  2.1690137706607833,\n",
              "  '마우스 무게 그립감 감도 가성비 까지 다 좋더군요.쓰다보니 마우스 led 너무 밝고 눈부셔서 끄려고 소프트웨어 받어서 설치하려는데아무리 기다려도 설치가 안되더군요.검색해서 알아보니 윈도우 계정명이 한글은 안되고 계정 추가 해서 영문으로 바꾸었더니되더군요.어이없네요. 이걸 패치를 안해준다고?로지텍 코리아 실망입니다.고객과의 소통부족과 횡포로 쓰러져가는 게임업체가 생각 나는 군요.전 앞으로 불매하려 합니다.제발 정신 차려 주시길.'),\n",
              " (2,\n",
              "  1.9333517678688326,\n",
              "  '처음 배송왔을 때 제품상자가 심하게 눌리고 찌그러진채로 와서 교환을 받았습니다.하지만 이번에는 배송은 잘 왔는데 왼쪽버튼에 하자가 있네요. 유격이 있어서 좌우로 덜그럭 거리면서 눌리는데 엄청 거슬립니다. 보통 마우스는 좌클릭을 많이 사용하는데 교환까지 한 번 받은 제품이 이러니 진짜 아쉽네요..'),\n",
              " (3,\n",
              "  1.8601441118636948,\n",
              "  '로지텍 b100을 잘써서 로지텍 검색하다g102괜찮다는 평이 많아서 구매했는데어떤점이 더 좋은지 잘 모르겠어요.일단 배송은 빠르고 실물은 예쁘네요.컴에 장착해서 사용해보니 이 금액주고 g102쓰느니저렴한 b100 쓰는게 제 개인적으로는 낳을거 같네요')]"
            ]
          },
          "execution_count": 158,
          "metadata": {},
          "output_type": "execute_result"
        }
      ],
      "source": [
        "keysents_bad"
      ]
    },
    {
      "cell_type": "code",
      "execution_count": 159,
      "metadata": {
        "colab": {
          "base_uri": "https://localhost:8080/"
        },
        "id": "ut_vFu4c-ibB",
        "outputId": "9925c1c6-1375-43be-c504-55f599a41ed6"
      },
      "outputs": [
        {
          "name": "stdout",
          "output_type": "stream",
          "text": [
            "0.39353346824645996\n"
          ]
        }
      ],
      "source": [
        "start_time=time.time()\n",
        "\n",
        "summarizer = KeysentenceSummarizer(tokenize = Mecab_tokenizer, min_sim = 0.6)\n",
        "keysents_good2 = summarizer.summarize(good_text, topk=3)\n",
        "keysents_bad2= summarizer.summarize(bad_text, topk=3)\n",
        "\n",
        "end_time=time.time()\n",
        "\n",
        "print(end_time-start_time)"
      ]
    },
    {
      "cell_type": "code",
      "execution_count": 160,
      "metadata": {
        "colab": {
          "base_uri": "https://localhost:8080/"
        },
        "id": "4_rOwqS3-iTM",
        "outputId": "b0d3f36b-6437-4375-95df-b097e4b72044"
      },
      "outputs": [
        {
          "data": {
            "text/plain": [
              "[(2,\n",
              "  5.118669915159519,\n",
              "  '유명한 제품이라 그런가 짭이 엄청 많다 그래서;; 되게 걱정했는데 받아서 연결해보니 지허브 연결 잘 됩니다화이트는 오래 쓰면 아무래도 블랙보다 때가 좀 탈 거 같아서 블랙 사고 싶었는데 재고가 없어서 그냥 화이트를 샀는데 의외로 때가 안 탈 것 같은 재질이라 괜찮을 것 같습니다소소한 장점으론 마우스 빛 색상 조절을 지허브에서 커스텀으로 변경 가능하기 때문에 좋아하는 색으로 바꿨더니 기분이 엄청 좋습니다이전에 샀던 마우스가 휠이 잘 안돼서 엄청 속을 썩였는데... 확실히 유명한 회사 제품이라 그런가 휠도 엄청 쫀쫀하게 잘 되고 버튼도 전부 잘 작동합니다 잘 쓰겠습니다!!'),\n",
              " (1,\n",
              "  4.22472815890569,\n",
              "  '10일날 주문 11일날 도착 이라는 어마어마한 스피드와 함께 다소 걱정스러웠던 진품인지 가품인지 에서도 공식 마크를 단 만큼이나 깔끔하게 진품 이었으며 정품 등록에도 차질이 없었습니다블랙으로 잘 왔으며 Ghub 에서도 인식을 잘 합니다 기존에 쓰던 102가 5년을 넘어가며 일을 그만두겠다는 듯이 더블클릭 현상화 함께 은퇴를 선언하는 바람에 102 2세대 LightSync 를 구매 했습니다 하다 오래써서 그랬는지는 모르지만 여전히 딱맞는 그립감과 좋은 클릭감이 저를 반겨주네요 잘돌아가는 휠버튼 포함해서 말이죠 아마 이녀석이 고장이 난다면 거의 5년후가 아닐까 싶지만 그때 되면 102의 3세대나 4세대가 나오겠죠? 그때 또 이 상점에서 구매하고 싶네요'),\n",
              " (0,\n",
              "  4.149167195024696,\n",
              "  '이 제품이 최고는 아닙니다...하지만 가성비면에서 그리고 게이밍 입문용에서는 꽤 쓸만하고 사진에 나온 타사 제품과 비교해서 비슷한 가격대에서 크기도 큰편이 아니라 저처럼 손이 작고 입문용으로 쓰실려면 추천 드립니다...전에도 써본적 있구 차이가 있다면 아무래도 버튼압은 그닥 차이가 없는거 같고 휠을 돌렸을때 느낌 차이가 좀 더 빡빡했으면 좋겠단 생각이 드네요...그래서 2개말고 102를 다시 구매했는데 예전 기억하고는 다르네요...다만 게임에서 성능은 마우스 문제가 아니라 제 손이 고자...여튼 마우스 성능을 못따라가서 그부분은 빼고 정리하자면 나머지 2개 실명은 안하겠고...손이 작아서 작은 게이밍 입문용 마우스를 찾으시면 저거 3개 추천 드립니다...아직 셋다 현역으로 뛰는 애들인데 오른쪽건 아직 생산중인지 모르겠네요..')]"
            ]
          },
          "execution_count": 160,
          "metadata": {},
          "output_type": "execute_result"
        }
      ],
      "source": [
        "keysents_good2"
      ]
    },
    {
      "cell_type": "code",
      "execution_count": 161,
      "metadata": {
        "colab": {
          "base_uri": "https://localhost:8080/"
        },
        "id": "kBf32ic_-iMr",
        "outputId": "f7930eb5-83d9-46ff-ea9b-166282b8ac5c"
      },
      "outputs": [
        {
          "data": {
            "text/plain": [
              "[(2,\n",
              "  3.2996449913696124,\n",
              "  '처음 배송왔을 때 제품상자가 심하게 눌리고 찌그러진채로 와서 교환을 받았습니다.하지만 이번에는 배송은 잘 왔는데 왼쪽버튼에 하자가 있네요. 유격이 있어서 좌우로 덜그럭 거리면서 눌리는데 엄청 거슬립니다. 보통 마우스는 좌클릭을 많이 사용하는데 교환까지 한 번 받은 제품이 이러니 진짜 아쉽네요..'),\n",
              " (3,\n",
              "  3.162505302407311,\n",
              "  '로지텍 b100을 잘써서 로지텍 검색하다g102괜찮다는 평이 많아서 구매했는데어떤점이 더 좋은지 잘 모르겠어요.일단 배송은 빠르고 실물은 예쁘네요.컴에 장착해서 사용해보니 이 금액주고 g102쓰느니저렴한 b100 쓰는게 제 개인적으로는 낳을거 같네요'),\n",
              " (108,\n",
              "  2.6474439800359497,\n",
              "  '내눈을 파버리고 싶네요. 상품 타이틀에 버젖이 정품이라고 써놓고 벌크를 보내셨네요. 전화로 항의하니 상세설명에 케이스 없다고 써있는거 못봤냐고. 예. 못 봤네요. 정품이라 써있어서 그런줄알았는데. 정품과 벌크의 차이는 뭔가요. 박스에 들어있는지 아닌지 아니가요. 제품은 정품이라지만 상당히 기분이 좋지 않네요.  정품 글씨 내리세요.')]"
            ]
          },
          "execution_count": 161,
          "metadata": {},
          "output_type": "execute_result"
        }
      ],
      "source": [
        "keysents_bad2"
      ]
    },
    {
      "cell_type": "code",
      "execution_count": 162,
      "metadata": {
        "colab": {
          "base_uri": "https://localhost:8080/"
        },
        "id": "Zqfrq1Yk-HPx",
        "outputId": "47f4e679-8236-4af9-dfe7-9a13753ea91e"
      },
      "outputs": [
        {
          "name": "stdout",
          "output_type": "stream",
          "text": [
            "7.02997612953186\n"
          ]
        }
      ],
      "source": [
        "start_time=time.time()\n",
        "\n",
        "summarizer = KeysentenceSummarizer(tokenize = OKT_tokenizer, min_sim = 0.6)\n",
        "keysents_good3 = summarizer.summarize(good_text, topk=3)\n",
        "keysents_bad3= summarizer.summarize(bad_text, topk=3)\n",
        "\n",
        "end_time=time.time()\n",
        "\n",
        "print(end_time-start_time)"
      ]
    },
    {
      "cell_type": "code",
      "execution_count": 163,
      "metadata": {
        "colab": {
          "base_uri": "https://localhost:8080/"
        },
        "id": "ZtLPF4_S-HDV",
        "outputId": "ba512eef-711d-4c59-f008-f5011c885bc0"
      },
      "outputs": [
        {
          "data": {
            "text/plain": [
              "[(324, 3.448739996158585, '배송빠르고 좋아요.정품 로지텍 마우스.'),\n",
              " (239, 3.0876831837457424, '배송 아주빠르고 좋아요 마우스도 적당하니 좋습니다.'),\n",
              " (603, 2.7870746411610967, '배송도 빠르고 잘 받았습니다^^')]"
            ]
          },
          "execution_count": 163,
          "metadata": {},
          "output_type": "execute_result"
        }
      ],
      "source": [
        "keysents_good3"
      ]
    },
    {
      "cell_type": "code",
      "execution_count": 164,
      "metadata": {
        "colab": {
          "base_uri": "https://localhost:8080/"
        },
        "id": "4Vq2iRT0-GK3",
        "outputId": "aedaa6f8-1da9-447d-80ce-c20dffe758da"
      },
      "outputs": [
        {
          "data": {
            "text/plain": [
              "[(54, 1.7150910328324342, '벌크 아니고 정품 박스 포장 제품 입니다'),\n",
              " (114,\n",
              "  1.7029689491811406,\n",
              "  '생각보다 빨리 도착하여 좋네요. 로지텍은 왜 박스 시리얼넘버랑 내용물의 시리얼 넘버가 다른가요?? 희안하네요.. 그리고 마우스건, 박스건 로지텍 홈페이지에서 정품등록이 불가능하네요.'),\n",
              " (0,\n",
              "  1.4012044849615664,\n",
              "  '기존에 사용하던 G1 마우스 스크롤이 망가졌습니다. ㅠㅠ 전기모기채를 가까이서 사용했는데 마우스에서 열이 조금 나더니 스크롤이 망가졌습니다. ㅠㅠ 플라스틱 몸체인데 왜 망가졌는지 모르겠어요. 더 정밀한 모니터는 화면에다 대고 모기잡는데 멀쩡하거든요.   암튼 G1 마우스와는 커서의 감이 조금 달라서 적응이 필요해 보입니다. ㅠㅠ G1 보다 조금 긴건지 스크롤 위치가 살짝 멀게 느껴집니다. 버튼이 부드러운지 우클릭 오작동이 자주 발생합니다. 다 적응하면 될일입니다.  ^^')]"
            ]
          },
          "execution_count": 164,
          "metadata": {},
          "output_type": "execute_result"
        }
      ],
      "source": [
        "keysents_bad3"
      ]
    }
  ],
  "metadata": {
    "accelerator": "GPU",
    "colab": {
      "provenance": []
    },
    "gpuClass": "standard",
    "kernelspec": {
      "display_name": "Python 3",
      "name": "python3"
    },
    "language_info": {
      "name": "python"
    }
  },
  "nbformat": 4,
  "nbformat_minor": 0
}
